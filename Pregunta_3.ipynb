{
  "nbformat": 4,
  "nbformat_minor": 0,
  "metadata": {
    "colab": {
      "name": "Pregunta 3.ipynb",
      "provenance": [],
      "authorship_tag": "ABX9TyM7DBMtGaORKpxK3XHw2vM0",
      "include_colab_link": true
    },
    "kernelspec": {
      "name": "python3",
      "display_name": "Python 3"
    },
    "language_info": {
      "name": "python"
    }
  },
  "cells": [
    {
      "cell_type": "markdown",
      "metadata": {
        "id": "view-in-github",
        "colab_type": "text"
      },
      "source": [
        "<a href=\"https://colab.research.google.com/github/sshadow25/escula/blob/main/Pregunta_3.ipynb\" target=\"_parent\"><img src=\"https://colab.research.google.com/assets/colab-badge.svg\" alt=\"Open In Colab\"/></a>"
      ]
    },
    {
      "cell_type": "code",
      "execution_count": 1,
      "metadata": {
        "colab": {
          "base_uri": "https://localhost:8080/",
          "height": 855
        },
        "id": "2hDaztFoQQsb",
        "outputId": "1b55dc32-7e40-4f37-bf0e-00113b220c5c"
      },
      "outputs": [
        {
          "output_type": "stream",
          "name": "stdout",
          "text": [
            "Introduzca la velocidad inicial en (m/s) : 30\n",
            "m/s = 30.0\n",
            "Introduzca el ángulo en grados: 45\n",
            "45 °\n",
            "Introduzca el valor de gravedad en m/s^2: 9.81\n",
            "\n",
            "g = 9.81\n",
            "\n",
            "grados = 0.7853981633974483\n",
            "Posición horizontal inicial [x0]: 20\n",
            "Posición vertical inicial [y0]: 5\n",
            "\n",
            "Un proyectil lanzado con una velocidad inicial de Vo= 30.0 m/s y un ángulo de ?= 45 °,\n",
            "iniciará su trayectoria con una velocidad horizontal de vxO:  21.213 m/s,\n",
            "y una velocidad vertical de vyO:  21.213 m/s.\n",
            "\n",
            "Los parámetros más relevantes de su trayectoria son:\n",
            "\n",
            "La altura máxima  alcanzada por el proyectil es: Ymax = 22.935779816513755 m\n",
            "\n",
            "El alcance máximo horizontal  del proyectil es: Xmax = 91.74311926605505 m\n",
            "\n",
            "La altura máxima (m) alcanzada por el proyectil es: Ymax = 22.94\n",
            "\n",
            "El alcance máximo horizontal(m) del proyectil es: Xmax =  91.74\n",
            "\n",
            "El tiempo máximo t1max (s) que alcanza el proyectil para el ángulo ? es: t1max = 2.16\n",
            "\n",
            "El tiempo de vuelo t1v(s) que alcanza el proyectil para el angulo ? es: t1v = 4.32\n",
            "----------------------------------------------------------------------\n",
            "----------------------------------------------------------------------\n"
          ]
        },
        {
          "output_type": "display_data",
          "data": {
            "image/png": "[encoded data removed]",
            "text/plain": [
              "<Figure size 432x288 with 1 Axes>"
            ]
          },
          "metadata": {
            "needs_background": "light"
          }
        }
      ],
      "source": [
        "from math import pi, tan, cos, sin\n",
        "from math import radians\n",
        "import numpy as np\n",
        "import matplotlib.pyplot as plt\n",
        "\n",
        "while True:\n",
        "   try:\n",
        "       vi = float(input(\"Introduzca la velocidad inicial en (m/s) : \"))\n",
        "       break\n",
        "   except ValueError:\n",
        "       print(\"Cantidad Incorrecta\")\n",
        "print(\"m/s =\",vi)\n",
        "\n",
        "while True:\n",
        "   try:\n",
        "       angulo = int(input(\"Introduzca el ángulo en grados: \"))\n",
        "       break\n",
        "   except ValueError:\n",
        "       print(\"\\nCantidad Incorrecta\\n\")\n",
        "print(angulo,\"°\")#no es necesario, lo uso para que vayamos viendo el resultado\n",
        "\n",
        "while True:\n",
        "   try:\n",
        "       g = float(input(\"Introduzca el valor de gravedad en m/s^2: \"))\n",
        "       break\n",
        "   except ValueError:\n",
        "       print(\"\\nCantidad Incorrecta\\n\")\n",
        "print(\"\\ng =\",g)\n",
        "\n",
        "grados = ((angulo*pi)/180)\n",
        "print (\"\\ngrados =\",grados)\n",
        "\n",
        "while True:\n",
        "   try:\n",
        "       xo = float(input(\"Posición horizontal inicial [x0]: \"))\n",
        "       break\n",
        "   except ValueError:\n",
        "       print(\"\\nCantidad Incorrecta\\n\")\n",
        "\n",
        "while True:\n",
        "   try:\n",
        "       yo = float(input(\"Posición vertical inicial [y0]: \"))\n",
        "       break\n",
        "   except ValueError:\n",
        "       print(\"\\nCantidad Incorrecta\\n\")\n",
        "\n",
        "\n",
        "a = tan(grados)\n",
        "b = ((g)/((2*vi*2)*cos(grados)*2))\n",
        "print()\n",
        "ymax=(vi**2)*(np.sin(grados)*sin(grados))/(2*g)\n",
        "xmax=(vi**2)*(np.sin(2*grados))/(g)\n",
        "vho = vi*(cos(radians(angulo)))\n",
        "vver = vi*(sin(radians(angulo)))\n",
        "print(\"Un proyectil lanzado con una velocidad inicial de Vo=\",vi,\"m/s y un ángulo de ?=\",angulo,\"°,\")\n",
        "print(\"iniciará su trayectoria con una velocidad horizontal de vxO: \",format(vho,\".3f\"),\"m/s,\")\n",
        "print(\"y una velocidad vertical de vyO: \",format(vver,\".3f\"),\"m/s.\")\n",
        "print()\n",
        "print(\"Los parámetros más relevantes de su trayectoria son:\")\n",
        "\n",
        "tmax=(vi*sin(grados))/(g)\n",
        "tv=2*(tmax)\n",
        "print()\n",
        "print(str(\"La altura máxima  alcanzada por el proyectil es: Ymax\")+\" = \"+str(ymax)+\" m\")\n",
        "print()\n",
        "print(str(\"El alcance máximo horizontal  del proyectil es: Xmax\")+\" = \"+str(xmax)+\" m\")\n",
        "print()\n",
        "print(\"La altura máxima (m) alcanzada por el proyectil es: Ymax =\",format(ymax,\".2f\"))\n",
        "print()\n",
        "print(\"El alcance máximo horizontal(m) del proyectil es: Xmax =\",format(xmax,\" .2f\"))\n",
        "print()\n",
        "print(\"El tiempo máximo t1max (s) que alcanza el proyectil para el ángulo ? es: t1max =\",format(tmax,\".2f\"))\n",
        "print()\n",
        "print(\"El tiempo de vuelo t1v(s) que alcanza el proyectil para el angulo ? es: t1v =\",format(tv,\".2f\"))\n",
        "print(\"----------------------------------------------------------------------\")\n",
        "print(\"----------------------------------------------------------------------\")\n",
        "\n",
        "# Definimos la ecuación de la trayectoria\n",
        "def f(x):\n",
        "   return(a*x-b*x**2)\n",
        "x=np.linspace(0,xmax,500)\n",
        "\n",
        "# añadimos el subtitulo\n",
        "plt.suptitle(\"CINEMÁTICA\",fontsize=20,color=\"red\")\n",
        "\n",
        "#añadimos las etiquetas de los ejes\n",
        "plt.xlabel(\"xmax\",fontsize=20,color=\"red\")                                      \n",
        "plt.ylabel(\"ymax\",fontsize=20,color=\"blue\")\n",
        "#añadimos texto\n",
        "plt.text(((np.argmax(f(x)))/2),np.max(f(x))+1,\"vi=\",fontsize=10)\n",
        "plt.text(((np.argmax(f(x)))/2)+11,np.max(f(x))+1,(str(vi)+\"m/s\"),fontsize=10)\n",
        "\n",
        "# Añadimos la rejilla en la gráfica\n",
        "plt.grid(True)                                                              \n",
        "plt.grid(color = '0.5', linestyle = '--', linewidth = 1)\n",
        "# Añadimos los ejes\n",
        "# plt.axis(\"tight\")\n",
        "\n",
        "# dibujamos y ponemos etiquetas a la gráfica\n",
        "plt.text(3,1,angulo,fontsize=10)\n",
        "plt.plot(x, f(x), \"red\", linewidth = 2, label = (str(angulo)+\"º\"))\n",
        "plt.show()"
      ]
    }
  ]
}